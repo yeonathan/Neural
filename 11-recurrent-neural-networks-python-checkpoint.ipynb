{
 "cells": [
  {
   "cell_type": "markdown",
   "metadata": {
    "collapsed": true
   },
   "source": [
    "Exercise 11 - Recurrent Neural Networks\n",
    "========\n",
    "\n",
    "A recurrent neural network (RNN) is a class of neural network that excels when your data can be treated as a sequence - such as text, music, speech recognition, connected handwriting, or data over a time period. \n",
    "\n",
    "RNN's can analyse or predict a word based on the previous words in a sentence - they allow a connection between previous information and current information.\n",
    "\n",
    "This exercise looks at implementing a LSTM RNN to generate new characters after learning from a large sample of text. LSTMs are a special type of RNN which dramatically improves the model’s ability to connect previous data to current data where there is a long gap.\n",
    "\n",
    "We will train an RNN model using a novel written by H. G. Wells - The Time Machine."
   ]
  },
  {
   "cell_type": "markdown",
   "metadata": {},
   "source": [
    "Step 1\n",
    "------\n",
    "\n",
    "Let's start by loading our libraries and text file. This might take a few minutes.\n",
    "\n",
    "#### Run the cell below to import the necessary libraries."
   ]
  },
  {
   "cell_type": "code",
   "execution_count": 1,
   "metadata": {},
   "outputs": [],
   "source": [
    "%%capture\n",
    "# Run this!\n",
    "from keras.models import load_model\n",
    "from keras.models import Sequential\n",
    "from keras.layers import Dense, Activation, LSTM\n",
    "from keras.callbacks import LambdaCallback, ModelCheckpoint\n",
    "import numpy as np\n",
    "import random, sys, io, string"
   ]
  },
  {
   "cell_type": "markdown",
   "metadata": {},
   "source": [
    "#### Replace the `<addFileName>` with `The Time Machine`"
   ]
  },
  {
   "cell_type": "code",
   "execution_count": null,
   "metadata": {},
   "outputs": [],
   "source": [
    "###\n",
    "# REPLACE THE <addFileName> BELOW WITH The Time Machine\n",
    "###\n",
    "text = io.open('Data/<addFileName>.txt', encoding = 'UTF-8').read()\n",
    "###\n",
    "\n",
    "# Let's have a look at some of the text\n",
    "print(text[0:198])\n",
    "\n",
    "# This cuts out punctuation and make all the characters lower case\n",
    "text = text.lower().translate(str.maketrans(\"\", \"\", string.punctuation))\n",
    "\n",
    "# Character index dictionary\n",
    "charset = sorted(list(set(text)))\n",
    "index_from_char = dict((c, i) for i, c in enumerate(charset))\n",
    "char_from_index = dict((i, c) for i, c in enumerate(charset))\n",
    "\n",
    "print('text length: %s characters' %len(text))\n",
    "print('unique characters: %s' %len(charset))"
   ]
  },
  {
   "cell_type": "markdown",
   "metadata": {},
   "source": [
    "Expected output:  \n",
    "```The Time Traveller (for so it will be convenient to speak of him) was expounding a recondite matter to us. His pale grey eyes shone and twinkled, and his usually pale face was flushed and animated.\n",
    "text length: 174201 characters\n",
    "unique characters: 39```\n",
    "\n",
    "Step 2\n",
    "-----\n",
    "\n",
    "Next we'll divide the text into sequences of 40 characters.\n",
    "\n",
    "Then for each sequence we'll make a training set - the following character will be the correct output for the test set.\n",
    "\n",
    "### In the cell below replace:\n",
    "#### 1. `<sequenceLength>` with `40`\n",
    "#### 2. `<step>` with `4`\n",
    "#### and then __run the code__. "
   ]
  },
  {
   "cell_type": "code",
   "execution_count": null,
   "metadata": {},
   "outputs": [],
   "source": [
    "###\n",
    "# REPLACE <sequenceLength> WITH 40 AND <step> WITH 4\n",
    "###\n",
    "sequence_length = <sequenceLength>\n",
    "step = <step>\n",
    "###\n",
    "\n",
    "sequences = []\n",
    "target_chars = []\n",
    "for i in range(0, len(text) - sequence_length, step):\n",
    "    sequences.append([text[i: i + sequence_length]])\n",
    "    target_chars.append(text[i + sequence_length])\n",
    "print('number of training sequences:', len(sequences))"
   ]
  },
  {
   "cell_type": "markdown",
   "metadata": {},
   "source": [
    "Expected output:\n",
    "`number of training sequences: 43541`\n",
    "\n",
    "#### Replace `<addSequences>` with `sequences` and run the code."
   ]
  },
  {
   "cell_type": "code",
   "execution_count": null,
   "metadata": {},
   "outputs": [],
   "source": [
    "# One-hot vectorise\n",
    "\n",
    "X = np.zeros((len(sequences), sequence_length, len(charset)), dtype=np.bool)\n",
    "y = np.zeros((len(sequences), len(charset)), dtype=np.bool)\n",
    "\n",
    "###\n",
    "# REPLACE THE <addSequences> BELOW WITH sequences\n",
    "###\n",
    "for n, sequence in enumerate(<addSequences>):\n",
    "###\n",
    "    for m, character in enumerate(list(sequence[0])):\n",
    "        X[n, m, index_from_char[character]] = 1\n",
    "    y[n, index_from_char[target_chars[n]]] = 1"
   ]
  },
  {
   "cell_type": "markdown",
   "metadata": {},
   "source": [
    "Step 3\n",
    "------\n",
    "\n",
    "Let's build our model, using a single LSTM layer of 128 units. We'll keep the model simple for now, so that training does not take too long.\n",
    "\n",
    "### In the cell below replace:\n",
    "#### 1. `<addLSTM>` with `LSTM`\n",
    "#### 2. `<addLayerSize>` with `128`\n",
    "#### 3. `<addSoftmaxFunction>` with `'softmax`\n",
    "#### and then __run the code__."
   ]
  },
  {
   "cell_type": "code",
   "execution_count": null,
   "metadata": {},
   "outputs": [],
   "source": [
    "model = Sequential()\n",
    "\n",
    "###\n",
    "# REPLACE THE <addLSTM> BELOW WITH LSTM (use uppercase) AND <addLayerSize> WITH 128\n",
    "###\n",
    "model.add(<addLSTM>(<addLayerSize>, input_shape = (X.shape[1], X.shape[2])))\n",
    "###\n",
    "\n",
    "###\n",
    "# REPLACE THE <addSoftmaxFunction> with 'softmax' (INCLUDING THE QUOTES)\n",
    "###\n",
    "model.add(Dense(y.shape[1], activation = <addSoftMaxFunction>))\n",
    "###\n",
    "\n",
    "model.compile(loss = 'categorical_crossentropy', optimizer = 'Adam')"
   ]
  },
  {
   "cell_type": "markdown",
   "metadata": {},
   "source": [
    "The code below generates text at the end of an epoch (one training cycle). This allows us to see how the model is performing as it trains. If you're making a large neural network with a long training time it's useful to check in on the model as see if the text generating is legible as it trains, as overtraining may occur and the output of the model turn to nonsense.\n",
    "\n",
    "The code below will also save a model if it is the best performing model, so we can use it later.\n",
    "\n",
    "#### Run the code below, but don't change it"
   ]
  },
  {
   "cell_type": "code",
   "execution_count": null,
   "metadata": {},
   "outputs": [],
   "source": [
    "# Run this, but do not edit.\n",
    "# It helps generate the text and save the model epochs.\n",
    "\n",
    "# Generate new text\n",
    "def on_epoch_end(epoch, _):\n",
    "    diversity = 0.5\n",
    "    print('\\n### Generating text with diversity %0.2f' %(diversity))\n",
    "\n",
    "    start = random.randint(0, len(text) - sequence_length - 1)\n",
    "    seed = text[start: start + sequence_length]\n",
    "    print('### Generating with seed: \"%s\"' %seed[:40])\n",
    "\n",
    "    output = seed[:40].lower().translate(str.maketrans(\"\", \"\", string.punctuation))\n",
    "    print(output, end = '')\n",
    "\n",
    "    for i in range(500):\n",
    "        x_pred = np.zeros((1, sequence_length, len(charset)))\n",
    "        for t, char in enumerate(output):\n",
    "            x_pred[0, t, index_from_char[char]] = 1.\n",
    "\n",
    "        predictions = model.predict(x_pred, verbose=0)[0]\n",
    "        exp_preds = np.exp(np.log(np.asarray(predictions).astype('float64')) / diversity)\n",
    "        next_index = np.argmax(np.random.multinomial(1, exp_preds / np.sum(exp_preds), 1))\n",
    "        next_char = char_from_index[next_index]\n",
    "\n",
    "        output = output[1:] + next_char\n",
    "\n",
    "        print(next_char, end = '')\n",
    "    print()\n",
    "print_callback = LambdaCallback(on_epoch_end=on_epoch_end)\n",
    "\n",
    "# Save the model\n",
    "checkpoint = ModelCheckpoint('Models/model-epoch-{epoch:02d}.hdf5', \n",
    "                             monitor = 'loss', verbose = 1, save_best_only = True, mode = 'min')"
   ]
  },
  {
   "cell_type": "markdown",
   "metadata": {},
   "source": [
    "The code below will start the model to train. This may take a long time. Feel free to stop the training with the `square stop button` to the right of the `Run button` in the toolbar.\n",
    "\n",
    "Later in the exercise, we will load a pretrained model.\n",
    "\n",
    "### In the cell below replace:\n",
    "#### 1. `<addPrintCallback>` with `print_callback`\n",
    "#### 2. `<addCheckpoint>` with `checkpoint`\n",
    "#### and then __run the code__."
   ]
  },
  {
   "cell_type": "code",
   "execution_count": null,
   "metadata": {},
   "outputs": [],
   "source": [
    "###\n",
    "# REPLACE <addPrintCallback> WITH print_callback AND <addCheckpoint> WITH checkpoint\n",
    "###\n",
    "model.fit(X, y, batch_size = 128, epochs = 3, callbacks = [<addPrintCallback>, <addCheckpoint>])\n",
    "###"
   ]
  },
  {
   "cell_type": "markdown",
   "metadata": {},
   "source": [
    "The output won't appear to be very good. But then, this dataset is small, and we have trained it only for a short time using a rather small RNN. How might it look if we upscaled things?\n",
    "\n",
    "Step 5\n",
    "------\n",
    "\n",
    "We could improve our model by:\n",
    "* Having a larger training set.\n",
    "* Increasing the number of LSTM units.\n",
    "* Training it for longer\n",
    "* Experimenting with difference activation functions, optimization functions etc\n",
    "\n",
    "Training this would still take far too long on most computers to see good results - so we've trained a model already for you.\n",
    "\n",
    "This model uses a different dataset - a few of the King Arthur tales pasted together. The model used:\n",
    "* sequences of 50 characters\n",
    "* Two LSTM layers (512 units each)\n",
    "* A dropout of 0.5 after each LSTM layer\n",
    "* Only 30 epochs (we'd recomend 100-200)\n",
    "\n",
    "Let's try importing this model that has already been trained.\n",
    "\n",
    "#### Replace `<addLoadModel>` with `load_model` and run the code."
   ]
  },
  {
   "cell_type": "code",
   "execution_count": null,
   "metadata": {},
   "outputs": [],
   "source": [
    "from keras.models import load_model\n",
    "print(\"loading model... \", end = '')\n",
    "\n",
    "###\n",
    "# REPLACE <addLoadModel> BELOW WITH load_model\n",
    "###\n",
    "model = <addLoadModel>('Models/arthur-model-epoch-30.hdf5')\n",
    "###\n",
    "model.compile(loss = 'categorical_crossentropy', optimizer = 'Adam')\n",
    "###\n",
    "\n",
    "print(\"model loaded\")"
   ]
  },
  {
   "cell_type": "markdown",
   "metadata": {},
   "source": [
    "Step 6\n",
    "-------\n",
    "\n",
    "Now let's use this model to generate some new text!\n",
    "\n",
    "#### Replace `<addFilePath>` with `'Data/Arthur tales.txt'`"
   ]
  },
  {
   "cell_type": "code",
   "execution_count": null,
   "metadata": {},
   "outputs": [],
   "source": [
    "###\n",
    "# REPLACE <addFilePath> BELOW WITH 'Data/Arthur tales.txt' (INCLUDING THE QUOTATION MARKS)\n",
    "###\n",
    "text = io.open(<addFilePath>, encoding='UTF-8').read()\n",
    "###\n",
    "\n",
    "# Cut out punctuation and make lower case\n",
    "text = text.lower().translate(str.maketrans(\"\", \"\", string.punctuation))\n",
    "\n",
    "# Character index dictionary\n",
    "charset = sorted(list(set(text)))\n",
    "index_from_char = dict((c, i) for i, c in enumerate(charset))\n",
    "char_from_index = dict((i, c) for i, c in enumerate(charset))\n",
    "\n",
    "print('text length: %s characters' %len(text))\n",
    "print('unique characters: %s' %len(charset))"
   ]
  },
  {
   "cell_type": "markdown",
   "metadata": {},
   "source": [
    "### In the cell below replace:\n",
    "#### 1. `<sequenceLength>` with `50`\n",
    "#### 2. `<writeSentence>` with a sentence of your own, at least 50 characters long.\n",
    "#### 3. `<numCharsToGenerate>` with the number of characters you want to generate (choose a large number, like 1500)\n",
    "#### and then __run the code__."
   ]
  },
  {
   "cell_type": "code",
   "execution_count": null,
   "metadata": {},
   "outputs": [],
   "source": [
    "# Generate text\n",
    "\n",
    "diversity = 0.5\n",
    "print('\\n### Generating text with diversity %0.2f' %(diversity))\n",
    "\n",
    "###\n",
    "# REPLACE <sequenceLength> BELOW WITH 50\n",
    "###\n",
    "sequence_length = <sequenceLength>\n",
    "###\n",
    "\n",
    "# Next we'll make a starting point for our text generator\n",
    "\n",
    "###\n",
    "# REPLACE <writeSentence> WITH A SENTENCE OF AT LEAST 50 CHARACTERS\n",
    "###\n",
    "seed = \"<writeSentence>\"\n",
    "###\n",
    "\n",
    "seed = seed.lower().translate(str.maketrans(\"\", \"\", string.punctuation))\n",
    "\n",
    "###\n",
    "# OR, ALTERNATIVELY, UNCOMMENT THE FOLLOWING TWO LINES AND GRAB A RANDOM STRING FROM THE TEXT FILE\n",
    "###\n",
    "\n",
    "#start = random.randint(0, len(text) - sequence_length - 1)\n",
    "#seed = text[start: start + sequence_length]\n",
    "\n",
    "###\n",
    "\n",
    "print('### Generating with seed: \"%s\"' %seed[:40])\n",
    "\n",
    "output = seed[:sequence_length].lower().translate(str.maketrans(\"\", \"\", string.punctuation))\n",
    "print(output, end = '')\n",
    "\n",
    "###\n",
    "# REPLACE THE <numCharsToGenerate> BELOW WITH THE NUMBER OF CHARACTERS WE WISH TO GENERATE, e.g. 1500\n",
    "###\n",
    "for i in range(<numCharsToGenerate>):\n",
    "###\n",
    "    x_pred = np.zeros((1, sequence_length, len(charset)))\n",
    "    for t, char in enumerate(output):\n",
    "        x_pred[0, t, index_from_char[char]] = 1.\n",
    "\n",
    "    predictions = model.predict(x_pred, verbose=0)[0]\n",
    "    exp_preds = np.exp(np.log(np.asarray(predictions).astype('float64')) / diversity)\n",
    "    next_index = np.argmax(np.random.multinomial(1, exp_preds / np.sum(exp_preds), 1))\n",
    "    next_char = char_from_index[next_index]\n",
    "\n",
    "    output = output[1:] + next_char\n",
    "\n",
    "    print(next_char, end = '')\n",
    "print()"
   ]
  },
  {
   "cell_type": "markdown",
   "metadata": {},
   "source": [
    "How does it look? Does it seem intelligible?\n",
    "\n",
    "Conclusion\n",
    "--------\n",
    "\n",
    "We have trained an RNN that learns to predict characters based on a text sequence. We have trained a lightweight model from scratch, as well as imported a pre-trained model and generated new text from that."
   ]
  }
 ],
 "metadata": {
  "kernelspec": {
   "display_name": "Python 3",
   "language": "python",
   "name": "python3"
  },
  "language_info": {
   "codemirror_mode": {
    "name": "ipython",
    "version": 3
   },
   "file_extension": ".py",
   "mimetype": "text/x-python",
   "name": "python",
   "nbconvert_exporter": "python",
   "pygments_lexer": "ipython3",
   "version": "3.6.8"
  }
 },
 "nbformat": 4,
 "nbformat_minor": 2
}
